{
 "cells": [
  {
   "cell_type": "markdown",
   "metadata": {},
   "source": [
    "#  Основные рекомендации PEP8"
   ]
  },
  {
   "cell_type": "markdown",
   "metadata": {},
   "source": [
    "## Отступы, длины строки, переносы\n",
    "\n",
    "Отступ = 4 пробела для каждого уровня"
   ]
  },
  {
   "cell_type": "code",
   "execution_count": 4,
   "metadata": {},
   "outputs": [
    {
     "name": "stdout",
     "output_type": "stream",
     "text": [
      "7\n",
      "a < 10\n",
      "a > 5\n"
     ]
    }
   ],
   "source": [
    "a = int(input())\n",
    "\n",
    "if a < 10:\n",
    "    print(\"a < 10\")\n",
    "    if a > 5:\n",
    "        print(\"a > 5\")\n",
    "        if a == 8:\n",
    "            print (\"a == 8\")\n",
    "    else:\n",
    "        print(\"a <= 5\")"
   ]
  },
  {
   "cell_type": "markdown",
   "metadata": {},
   "source": [
    "Длина строки <= 79 символов. Если не умещается -- надо переносить:"
   ]
  },
  {
   "cell_type": "markdown",
   "metadata": {},
   "source": [
    "**YES**"
   ]
  },
  {
   "cell_type": "code",
   "execution_count": null,
   "metadata": {},
   "outputs": [],
   "source": [
    "# Aligned with opening delimiter.\n",
    "foo = long_function_name(var_one, var_two,\n",
    "                         var_three, var_four)\n",
    "\n",
    "# More indentation included to distinguish this from the rest.\n",
    "def long_function_name(\n",
    "        var_one, var_two, var_three,\n",
    "        var_four):\n",
    "    print(var_one)\n",
    "\n",
    "# Hanging indents should add a level.\n",
    "foo = long_function_name(\n",
    "    var_one, var_two,\n",
    "    var_three, var_four)\n",
    "\n",
    "# Other variants:\n",
    "\n",
    "my_list = [\n",
    "    1, 2, 3,\n",
    "    4, 5, 6,\n",
    "    ]\n",
    "\n",
    "result = some_function_that_takes_arguments(\n",
    "    'a', 'b', 'c',\n",
    "    'd', 'e', 'f',\n",
    "    )\n",
    "\n",
    "my_list = [\n",
    "    1, 2, 3,\n",
    "    4, 5, 6,\n",
    "]\n",
    "result = some_function_that_takes_arguments(\n",
    "    'a', 'b', 'c',\n",
    "    'd', 'e', 'f',\n",
    ")"
   ]
  },
  {
   "cell_type": "markdown",
   "metadata": {},
   "source": [
    "**NO**"
   ]
  },
  {
   "cell_type": "code",
   "execution_count": null,
   "metadata": {},
   "outputs": [],
   "source": [
    "# Arguments on first line forbidden when not using vertical alignment.\n",
    "foo = long_function_name(var_one, var_two,\n",
    "    var_three, var_four)\n",
    "\n",
    "# Further indentation required as indentation is not distinguishable.\n",
    "def long_function_name(\n",
    "    var_one, var_two, var_three,\n",
    "    var_four):\n",
    "    print(var_one)"
   ]
  },
  {
   "cell_type": "markdown",
   "metadata": {},
   "source": [
    "Сложности с преносом if-выражения -- без дополнительного уровня отступа условие сливается с действиями"
   ]
  },
  {
   "cell_type": "code",
   "execution_count": null,
   "metadata": {},
   "outputs": [],
   "source": [
    "# No extra indentation.\n",
    "if (this_is_one_thing and\n",
    "    that_is_another_thing):\n",
    "    do_something()\n",
    "\n",
    "# Add a comment, which will provide some distinction in editors\n",
    "# supporting syntax highlighting.\n",
    "if (this_is_one_thing and\n",
    "    that_is_another_thing):\n",
    "    # Since both conditions are true, we can frobnicate.\n",
    "    do_something()\n",
    "\n",
    "# Add some extra indentation on the conditional continuation line.\n",
    "if (this_is_one_thing\n",
    "        and that_is_another_thing):\n",
    "    do_something()"
   ]
  },
  {
   "cell_type": "markdown",
   "metadata": {},
   "source": [
    "Перенос длинных вычислений"
   ]
  },
  {
   "cell_type": "code",
   "execution_count": null,
   "metadata": {},
   "outputs": [],
   "source": [
    "# No: operators sit far away from their operands\n",
    "income = (gross_wages +\n",
    "          taxable_interest +\n",
    "          (dividends - qualified_dividends) -\n",
    "          ira_deduction -\n",
    "          student_loan_interest)\n",
    "\n",
    "# Yes: easy to match operators with operands\n",
    "income = (gross_wages\n",
    "          + taxable_interest\n",
    "          + (dividends - qualified_dividends)\n",
    "          - ira_deduction\n",
    "          - student_loan_interest)\n",
    "\n",
    "# Maybe, but not prefered\n",
    "income = gross_wages \\\n",
    "         + taxable_interest \\\n",
    "         - ira_deduction"
   ]
  },
  {
   "cell_type": "markdown",
   "metadata": {},
   "source": [
    "## Пустые строки\n",
    "\n",
    "* Разделение функций и классов -- 2 пустые строки\n",
    "\n",
    "* Разделение методов в классе -- 1 пустая строка\n",
    " \n",
    "* В конце файла -- 1 пустая строка\n",
    "\n",
    "* Дополнительные пустые строки -- для разделеия логических кусков кода"
   ]
  },
  {
   "cell_type": "markdown",
   "metadata": {},
   "source": [
    "## Импорты"
   ]
  },
  {
   "cell_type": "markdown",
   "metadata": {},
   "source": [
    "Всегда в начале файла"
   ]
  },
  {
   "cell_type": "code",
   "execution_count": null,
   "metadata": {},
   "outputs": [],
   "source": [
    "# Yes: \n",
    "import os\n",
    "import sys\n",
    "from subprocess import Popen, PIPE\n",
    "\n",
    "# No:  \n",
    "import sys, os"
   ]
  },
  {
   "cell_type": "markdown",
   "metadata": {},
   "source": [
    "Подробнее [тут](https://www.python.org/dev/peps/pep-0008/#imports)"
   ]
  },
  {
   "cell_type": "markdown",
   "metadata": {},
   "source": [
    "## String Quotes\n",
    "\n",
    "In Python, single-quoted strings and double-quoted strings are the same. This PEP does not make a recommendation for this. Pick a rule and stick to it. When a string contains single or double quote characters, however, use the other one to avoid backslashes in the string. It improves readability.\n",
    "\n",
    "For triple-quoted strings, always use double quote characters to be consistent with the docstring convention in PEP 257."
   ]
  },
  {
   "cell_type": "markdown",
   "metadata": {},
   "source": [
    "## Пробелы"
   ]
  },
  {
   "cell_type": "markdown",
   "metadata": {},
   "source": [
    "Избегайте лишних пробелов"
   ]
  },
  {
   "cell_type": "code",
   "execution_count": null,
   "metadata": {},
   "outputs": [],
   "source": [
    "# Yes: \n",
    "spam(ham[1], {eggs: 2})\n",
    "\n",
    "# No:  \n",
    "spam( ham[ 1 ], { eggs: 2 } )\n",
    "\n"
   ]
  }
 ],
 "metadata": {
  "kernelspec": {
   "display_name": "Python 3",
   "language": "python",
   "name": "python3"
  },
  "language_info": {
   "codemirror_mode": {
    "name": "ipython",
    "version": 3
   },
   "file_extension": ".py",
   "mimetype": "text/x-python",
   "name": "python",
   "nbconvert_exporter": "python",
   "pygments_lexer": "ipython3",
   "version": "3.6.5"
  }
 },
 "nbformat": 4,
 "nbformat_minor": 2
}
