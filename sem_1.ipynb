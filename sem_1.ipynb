{
 "cells": [
  {
   "cell_type": "markdown",
   "metadata": {},
   "source": [
    "![](https://i.pinimg.com/736x/2c/3d/9b/2c3d9b92be483fd9e3a7fad57304408b--kids-computer-computer-teacher.jpg)\n",
    "# <center>Семинар 1: Intro, арифметика, типы </center>"
   ]
  },
  {
   "cell_type": "markdown",
   "metadata": {},
   "source": [
    "<img src=\"https://tproger.ru/wp-content/uploads/2016/07/Python.png\" />\n",
    "\n",
    "\n",
    "<center>\n",
    "<br></br>\n",
    "\n",
    "<oi>\n",
    "    <li>Просто выучить и просто использовать</li>\n",
    "    <li>Высокоуровневый</li>\n",
    "    <li>Интерпретируемый</li>\n",
    "    <li>Объектно-ориентированный</li>\n",
    "    <li>Динамическая типизация</li>\n",
    "    <li>Batteries included</li>\n",
    "</oi>\n",
    "\n",
    "</center>"
   ]
  },
  {
   "cell_type": "markdown",
   "metadata": {},
   "source": [
    "##  Немного истории\n",
    "\n",
    "### \"Benevolent Dictator For Life\"\n",
    "<img style=\"float:left;margin:0px 60px 10px 0\" src=\"https://upload.wikimedia.org/wikipedia/commons/thumb/6/66/Guido_van_Rossum_OSCON_2006.jpg/800px-Guido_van_Rossum_OSCON_2006.jpg\" width=\"200\"/>\n",
    "\n",
    "\n",
    "**1991 год, Гвидо ван Россум** работает в команде по разработке языка ABC. \n",
    "На рождественских каникулах пишет Python\n",
    "\n",
    "Пример кода на ABC:\n",
    "```\n",
    "PUT {} IN collection\n",
    "FOR line IN document:\n",
    "  FOR word IN split line:\n",
    "    IF word not.in collection:\n",
    "      INSERT word IN collection\n",
    "RETURN collection\n",
    "```\n",
    "\n",
    "Другие языки, повлиявшие на Python: Modula-3, С, С++ и т.д."
   ]
  },
  {
   "cell_type": "markdown",
   "metadata": {},
   "source": [
    "## Python 2 vs Python 3\n",
    "\n",
    "<img src=\"http://www.vitaliypodoba.com/wp-content/uploads/2014/05/python2_vs_python3.jpg\" width=600 />\n",
    "\n",
    "* Существует две официальные несовместимые версии Python -- 2.x и 3.x\n",
    "* 2.x поддерживается, но никаких новых фичей к ней не добавляют, всё новое в 3.х\n",
    "* 2.x до сих пор используется во многих крупных IT-компаниях"
   ]
  },
  {
   "cell_type": "markdown",
   "metadata": {},
   "source": [
    "## В чём писать код\n",
    "\n",
    "0. Необходимо (если у вас его еще нет) установить интерпретатор Python версии не ниже 3.4 под свою ОС: \n",
    "\n",
    "Проверка версии Python (набираем в консоли): \n",
    "\n",
    "```python --version```\n",
    "\n",
    "или:\n",
    "\n",
    "```python3 --version```\n",
    "\n",
    "Если не Питон совсем не нашелся: качаем нужную версию [отсюда](https://www.python.org/downloads/) и устанавливаем по инструкции:\n",
    "\n",
    "[Инструкция для Windows и OS X](https://tutorial.djangogirls.org/ru/python_installation/)\n",
    "\n",
    "[Как обновить Питон на Ubuntu 16.04](http://ubuntuhandbook.org/index.php/2017/07/install-python-3-6-1-in-ubuntu-16-04-lts/)\n",
    "\n",
    "1. Консольный режим:\n",
    "\n",
    "наберите в консоли ```python``` или ```python3```\n",
    "2. Рекомендуемое IDE: JetBrains PyCharm Community: https://www.jetbrains.com/pycharm/download/\n",
    "3. Можно поразвлекаться с Jupyter Notebook (в этом написаны семинары): http://jupyter.org\n",
    "\n",
    "На занятия можно приносить свой ноутбук."
   ]
  },
  {
   "cell_type": "markdown",
   "metadata": {},
   "source": [
    "### Упражнение 1:\n",
    "Откройте Python в консольном режиме и посчитайте 7!"
   ]
  },
  {
   "cell_type": "markdown",
   "metadata": {},
   "source": [
    "## Арифметика и типы"
   ]
  },
  {
   "cell_type": "code",
   "execution_count": null,
   "metadata": {},
   "outputs": [],
   "source": []
  }
 ],
 "metadata": {
  "kernelspec": {
   "display_name": "Python 3",
   "language": "python",
   "name": "python3"
  },
  "language_info": {
   "codemirror_mode": {
    "name": "ipython",
    "version": 3
   },
   "file_extension": ".py",
   "mimetype": "text/x-python",
   "name": "python",
   "nbconvert_exporter": "python",
   "pygments_lexer": "ipython3",
   "version": "3.6.5"
  }
 },
 "nbformat": 4,
 "nbformat_minor": 2
}
