{
 "cells": [
  {
   "cell_type": "markdown",
   "metadata": {},
   "source": [
    "![](https://i.pinimg.com/736x/2c/3d/9b/2c3d9b92be483fd9e3a7fad57304408b--kids-computer-computer-teacher.jpg)\n",
    "# <center>Семинар 1: Intro, арифметика, типы </center>"
   ]
  },
  {
   "cell_type": "markdown",
   "metadata": {},
   "source": [
    "<img src=\"https://tproger.ru/wp-content/uploads/2016/07/Python.png\" />\n",
    "\n",
    "\n",
    "\n",
    "\n",
    "\n",
    "* Просто выучить и просто использовать\n",
    "* Высокоуровневый\n",
    "* Интерпретируемый\n",
    "* Объектно-ориентированный\n",
    "* Динамическая типизация\n",
    "* Batteries included\n",
    "\n"
   ]
  },
  {
   "cell_type": "markdown",
   "metadata": {},
   "source": [
    "##  Немного истории\n",
    "\n",
    "### \"Benevolent Dictator For Life\"\n",
    "<img style=\"float:left;margin:0px 60px 10px 0\" src=\"https://upload.wikimedia.org/wikipedia/commons/thumb/6/66/Guido_van_Rossum_OSCON_2006.jpg/800px-Guido_van_Rossum_OSCON_2006.jpg\" width=\"200\"/>\n",
    "\n",
    "\n",
    "**1991 год, Гвидо ван Россум** работает в команде по разработке языка ABC. \n",
    "На рождественских каникулах пишет Python\n",
    "\n",
    "Пример кода на ABC:\n",
    "```\n",
    "PUT {} IN collection\n",
    "FOR line IN document:\n",
    "  FOR word IN split line:\n",
    "    IF word not.in collection:\n",
    "      INSERT word IN collection\n",
    "RETURN collection\n",
    "```\n",
    "\n",
    "Другие языки, повлиявшие на Python: Modula-3, С, С++ и т.д."
   ]
  },
  {
   "cell_type": "markdown",
   "metadata": {},
   "source": [
    "## Python 2 vs Python 3\n",
    "\n",
    "<img src=\"http://www.vitaliypodoba.com/wp-content/uploads/2014/05/python2_vs_python3.jpg\" width=600 />\n",
    "\n",
    "* Существует две официальные несовместимые версии Python -- 2.x и 3.x\n",
    "* 2.x поддерживается, но никаких новых фичей к ней не добавляют, всё новое в 3.х\n",
    "* 2.x до сих пор используется во многих крупных IT-компаниях"
   ]
  },
  {
   "cell_type": "markdown",
   "metadata": {},
   "source": [
    "## PEP8\n",
    "\n",
    "<img src=\"https://uploads.hb.cldmail.ru/geekbrains/public/ckeditor_assets/pictures/4546/content-ed39ffd1f58a8b34a08b1f4b71ad7c35.png\" width=600></img>\n",
    "\n",
    "PEP8 (Python Enhancement Proposal) -- документ с рекомендациями по оформлению кода на Питоне\n",
    "\n",
    "Полный документ: https://www.python.org/dev/peps/pep-0008/\n",
    "\n",
    "Сжатая версия (с картинками и на русском!): https://geekbrains.ru/posts/pep8"
   ]
  },
  {
   "cell_type": "markdown",
   "metadata": {},
   "source": [
    "## В чём писать код\n",
    "\n",
    "0. Необходимо (если у вас его еще нет) установить интерпретатор Python версии не ниже 3.4 под свою ОС: \n",
    "\n",
    "Проверка версии Python (набираем в консоли): \n",
    "\n",
    "```python --version```\n",
    "\n",
    "или:\n",
    "\n",
    "```python3 --version```\n",
    "\n",
    "Если не Питон совсем не нашелся: качаем нужную версию [отсюда](https://www.python.org/downloads/) и устанавливаем по инструкции:\n",
    "\n",
    "[Инструкция для Windows и OS X](https://tutorial.djangogirls.org/ru/python_installation/)\n",
    "\n",
    "[Как обновить Питон на Ubuntu 16.04](http://ubuntuhandbook.org/index.php/2017/07/install-python-3-6-1-in-ubuntu-16-04-lts/)\n",
    "\n",
    "1. Консольный режим:\n",
    "\n",
    "наберите в консоли ```python``` или ```python3```\n",
    "2. Рекомендуемое IDE: JetBrains PyCharm Community: https://www.jetbrains.com/pycharm/download/\n",
    "3. Можно поразвлекаться с Jupyter Notebook (в нем написаны семинары): http://jupyter.org\n",
    "\n",
    "На занятия можно приносить свой ноутбук."
   ]
  },
  {
   "cell_type": "markdown",
   "metadata": {},
   "source": [
    "### Упражнение:\n",
    "Откройте Python в консольном режиме и посчитайте 7!"
   ]
  },
  {
   "cell_type": "markdown",
   "metadata": {},
   "source": [
    "## Арифметика и типы"
   ]
  },
  {
   "cell_type": "markdown",
   "metadata": {},
   "source": [
    "### Разминка"
   ]
  },
  {
   "cell_type": "markdown",
   "metadata": {},
   "source": [
    "Вычислите $\\left(\\frac{3}{7} + \\frac{6^3}{5\\cdot44}\\right)^2$"
   ]
  },
  {
   "cell_type": "code",
   "execution_count": null,
   "metadata": {},
   "outputs": [],
   "source": [
    "# Type your code here"
   ]
  },
  {
   "cell_type": "markdown",
   "metadata": {},
   "source": [
    "Вычислите остаток от деления числа $(25+48)^3$ на $5$"
   ]
  },
  {
   "cell_type": "code",
   "execution_count": null,
   "metadata": {},
   "outputs": [],
   "source": [
    "# Type your code here"
   ]
  },
  {
   "cell_type": "markdown",
   "metadata": {},
   "source": [
    "Вычислите целую часть от деления $5!$ на $7$"
   ]
  },
  {
   "cell_type": "code",
   "execution_count": 9,
   "metadata": {},
   "outputs": [],
   "source": [
    "# Type your code here"
   ]
  },
  {
   "cell_type": "markdown",
   "metadata": {},
   "source": [
    "Напечатайте букву \"A\" 100 раз подряд (без кавычек, пробелов и переносов строки)"
   ]
  },
  {
   "cell_type": "code",
   "execution_count": null,
   "metadata": {},
   "outputs": [],
   "source": [
    "# Type your code here"
   ]
  },
  {
   "cell_type": "markdown",
   "metadata": {},
   "source": [
    "### Типы данных в Python. Строки и целые числа\n",
    "\n",
    "Узнать тип чего-либо:"
   ]
  },
  {
   "cell_type": "code",
   "execution_count": 27,
   "metadata": {},
   "outputs": [
    {
     "name": "stdout",
     "output_type": "stream",
     "text": [
      "<class 'int'>\n"
     ]
    }
   ],
   "source": [
    "anything = 20\n",
    "print(type(anything))"
   ]
  },
  {
   "cell_type": "markdown",
   "metadata": {},
   "source": [
    "Типы данных в Python бывают изменяемые (mutable) и неизменяемые (unmutable)\n",
    "\n",
    "* Неизменяемые: int, float, complex, str, tuple\n",
    "* Изменяемые: list, set, dict\n",
    "\n",
    "Почему это важно:"
   ]
  },
  {
   "cell_type": "code",
   "execution_count": 12,
   "metadata": {},
   "outputs": [
    {
     "name": "stdout",
     "output_type": "stream",
     "text": [
      "2\n"
     ]
    }
   ],
   "source": [
    "a = 2\n",
    "b = a\n",
    "b = 3\n",
    "print(a)"
   ]
  },
  {
   "cell_type": "code",
   "execution_count": 13,
   "metadata": {},
   "outputs": [
    {
     "name": "stdout",
     "output_type": "stream",
     "text": [
      "[2]\n"
     ]
    }
   ],
   "source": [
    "a = []\n",
    "b = a\n",
    "b.append(2) # добавили в список b один элемент -- число 2\n",
    "print(a)"
   ]
  },
  {
   "cell_type": "markdown",
   "metadata": {},
   "source": [
    "###  Преобразования типов\n",
    "\n",
    "Преобразования из строк в числа и обратно"
   ]
  },
  {
   "cell_type": "code",
   "execution_count": 18,
   "metadata": {},
   "outputs": [
    {
     "name": "stdout",
     "output_type": "stream",
     "text": [
      "<class 'str'> 100\n"
     ]
    }
   ],
   "source": [
    "a = 100\n",
    "b = str(a)\n",
    "print(type(b), b)"
   ]
  },
  {
   "cell_type": "code",
   "execution_count": 16,
   "metadata": {},
   "outputs": [
    {
     "name": "stdout",
     "output_type": "stream",
     "text": [
      "<class 'int'> 20\n"
     ]
    }
   ],
   "source": [
    "a = \"20\"\n",
    "b = int(a)\n",
    "print(type(b), b)"
   ]
  },
  {
   "cell_type": "code",
   "execution_count": 19,
   "metadata": {},
   "outputs": [
    {
     "ename": "ValueError",
     "evalue": "invalid literal for int() with base 10: 'Hello'",
     "output_type": "error",
     "traceback": [
      "\u001b[0;31m---------------------------------------------------------------------------\u001b[0m",
      "\u001b[0;31mValueError\u001b[0m                                Traceback (most recent call last)",
      "\u001b[0;32m<ipython-input-19-034e78511b70>\u001b[0m in \u001b[0;36m<module>\u001b[0;34m()\u001b[0m\n\u001b[1;32m      1\u001b[0m \u001b[0ma\u001b[0m \u001b[0;34m=\u001b[0m \u001b[0;34m\"Hello\"\u001b[0m\u001b[0;34m\u001b[0m\u001b[0m\n\u001b[0;32m----> 2\u001b[0;31m \u001b[0mb\u001b[0m \u001b[0;34m=\u001b[0m \u001b[0mint\u001b[0m\u001b[0;34m(\u001b[0m\u001b[0ma\u001b[0m\u001b[0;34m)\u001b[0m\u001b[0;34m\u001b[0m\u001b[0m\n\u001b[0m\u001b[1;32m      3\u001b[0m \u001b[0mprint\u001b[0m\u001b[0;34m(\u001b[0m\u001b[0mtype\u001b[0m\u001b[0;34m(\u001b[0m\u001b[0mb\u001b[0m\u001b[0;34m)\u001b[0m\u001b[0;34m)\u001b[0m\u001b[0;34m\u001b[0m\u001b[0m\n",
      "\u001b[0;31mValueError\u001b[0m: invalid literal for int() with base 10: 'Hello'"
     ]
    }
   ],
   "source": [
    "a = \"Hello\"\n",
    "b = int(a)\n",
    "print(type(b))"
   ]
  },
  {
   "cell_type": "code",
   "execution_count": 26,
   "metadata": {},
   "outputs": [
    {
     "name": "stdout",
     "output_type": "stream",
     "text": [
      "<class 'float'> 2.77\n"
     ]
    }
   ],
   "source": [
    "a = \"2.77\"\n",
    "b = float(a)\n",
    "print(type(b), a)"
   ]
  },
  {
   "cell_type": "markdown",
   "metadata": {},
   "source": [
    "### Упражнения"
   ]
  },
  {
   "cell_type": "markdown",
   "metadata": {},
   "source": [
    "Напишите программу, которая считывает три числа и выводит их сумму. Каждое вводимое число записано в отдельной строке."
   ]
  },
  {
   "cell_type": "code",
   "execution_count": null,
   "metadata": {},
   "outputs": [],
   "source": []
  },
  {
   "cell_type": "markdown",
   "metadata": {},
   "source": [
    "Напишите программу, которая считывает длины двух катетов в прямоугольном треугольнике и выводит его площадь. Каждое число записано в отдельной строке."
   ]
  },
  {
   "cell_type": "code",
   "execution_count": null,
   "metadata": {},
   "outputs": [],
   "source": []
  },
  {
   "cell_type": "markdown",
   "metadata": {},
   "source": [
    "Число $179^{10}$ записали четыре раза подряд. Из получившегося числа извлекли корень степени 10. Сколько получилось?"
   ]
  },
  {
   "cell_type": "code",
   "execution_count": null,
   "metadata": {},
   "outputs": [],
   "source": []
  },
  {
   "cell_type": "markdown",
   "metadata": {},
   "source": [
    "Число 179 записали 50 раз подряд. Полученное 150-значное число возвели в квадрат. Сколько получилось?"
   ]
  },
  {
   "cell_type": "code",
   "execution_count": null,
   "metadata": {},
   "outputs": [],
   "source": []
  }
 ],
 "metadata": {
  "kernelspec": {
   "display_name": "Python 3",
   "language": "python",
   "name": "python3"
  },
  "language_info": {
   "codemirror_mode": {
    "name": "ipython",
    "version": 3
   },
   "file_extension": ".py",
   "mimetype": "text/x-python",
   "name": "python",
   "nbconvert_exporter": "python",
   "pygments_lexer": "ipython3",
   "version": "3.6.5"
  }
 },
 "nbformat": 4,
 "nbformat_minor": 2
}
